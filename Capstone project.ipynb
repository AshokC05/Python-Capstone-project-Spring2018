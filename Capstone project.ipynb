{
 "cells": [
  {
   "cell_type": "markdown",
   "metadata": {},
   "source": [
    "## Capstone project\n",
    "* Goals\n",
    "  * Data extraction\n",
    "      * Download a publicly available dataset. \n",
    "      * Describe the dataset \n",
    "      * Describe what question you intend to answer with the dataset\n",
    "  * Data cleanup\n",
    "      * Write a script/function to clean up the dataset. \n",
    "      * This might involve\n",
    "        - cleaning up columns\n",
    "        - removing/filling missing data\n",
    "  * Data visualization\n",
    "      * Visualize important dimensions of the data\n",
    "      * Outline a few trends you can see \n",
    "  * Descriptive/Predictive analytics\n",
    "      * Draw conclusions from the data\n",
    "          * This can based on descriptive statistics and/or visualization\n",
    "          * Predictive models (preferred) and carries 10 extra points.public\n",
    " "
   ]
  },
  {
   "cell_type": "markdown",
   "metadata": {},
   "source": [
    "### Open datasets\n",
    "          \n",
    "* Resources for open data\n",
    "  * https://data.boston.gov/\n",
    "  * https://www.data.gov/\n",
    "  * https://www.bls.gov/data/\n",
    "  * http://www.fao.org/statistics/databases/en/\n",
    "  * http://ec.europa.eu/eurostat/web/main\n",
    "  * https://github.com/awesomedata/awesome-public-datasets\n",
    "  * https://www.kdnuggets.com/2016/05/top-10-datasets-github.html\n",
    "  * https://www.quora.com/Where-can-I-find-large-datasets-open-to-the-public"
   ]
  },
  {
   "cell_type": "code",
   "execution_count": 12,
   "metadata": {},
   "outputs": [
    {
     "data": {
      "text/html": [
       "\n",
       "    <div class=\"bk-root\">\n",
       "        <a href=\"https://bokeh.pydata.org\" target=\"_blank\" class=\"bk-logo bk-logo-small bk-logo-notebook\"></a>\n",
       "        <span id=\"ca7a9be8-096d-43e6-b3e6-2433763b214f\">Loading BokehJS ...</span>\n",
       "    </div>"
      ]
     },
     "metadata": {},
     "output_type": "display_data"
    },
    {
     "data": {
      "application/javascript": [
       "\n",
       "(function(root) {\n",
       "  function now() {\n",
       "    return new Date();\n",
       "  }\n",
       "\n",
       "  var force = true;\n",
       "\n",
       "  if (typeof (root._bokeh_onload_callbacks) === \"undefined\" || force === true) {\n",
       "    root._bokeh_onload_callbacks = [];\n",
       "    root._bokeh_is_loading = undefined;\n",
       "  }\n",
       "\n",
       "  var JS_MIME_TYPE = 'application/javascript';\n",
       "  var HTML_MIME_TYPE = 'text/html';\n",
       "  var EXEC_MIME_TYPE = 'application/vnd.bokehjs_exec.v0+json';\n",
       "  var CLASS_NAME = 'output_bokeh rendered_html';\n",
       "\n",
       "  /**\n",
       "   * Render data to the DOM node\n",
       "   */\n",
       "  function render(props, node) {\n",
       "    var script = document.createElement(\"script\");\n",
       "    node.appendChild(script);\n",
       "  }\n",
       "\n",
       "  /**\n",
       "   * Handle when an output is cleared or removed\n",
       "   */\n",
       "  function handleClearOutput(event, handle) {\n",
       "    var cell = handle.cell;\n",
       "\n",
       "    var id = cell.output_area._bokeh_element_id;\n",
       "    var server_id = cell.output_area._bokeh_server_id;\n",
       "    // Clean up Bokeh references\n",
       "    if (id !== undefined) {\n",
       "      Bokeh.index[id].model.document.clear();\n",
       "      delete Bokeh.index[id];\n",
       "    }\n",
       "\n",
       "    if (server_id !== undefined) {\n",
       "      // Clean up Bokeh references\n",
       "      var cmd = \"from bokeh.io.state import curstate; print(curstate().uuid_to_server['\" + server_id + \"'].get_sessions()[0].document.roots[0]._id)\";\n",
       "      cell.notebook.kernel.execute(cmd, {\n",
       "        iopub: {\n",
       "          output: function(msg) {\n",
       "            var element_id = msg.content.text.trim();\n",
       "            Bokeh.index[element_id].model.document.clear();\n",
       "            delete Bokeh.index[element_id];\n",
       "          }\n",
       "        }\n",
       "      });\n",
       "      // Destroy server and session\n",
       "      var cmd = \"import bokeh.io.notebook as ion; ion.destroy_server('\" + server_id + \"')\";\n",
       "      cell.notebook.kernel.execute(cmd);\n",
       "    }\n",
       "  }\n",
       "\n",
       "  /**\n",
       "   * Handle when a new output is added\n",
       "   */\n",
       "  function handleAddOutput(event, handle) {\n",
       "    var output_area = handle.output_area;\n",
       "    var output = handle.output;\n",
       "\n",
       "    // limit handleAddOutput to display_data with EXEC_MIME_TYPE content only\n",
       "    if ((output.output_type != \"display_data\") || (!output.data.hasOwnProperty(EXEC_MIME_TYPE))) {\n",
       "      return\n",
       "    }\n",
       "\n",
       "    var toinsert = output_area.element.find(\".\" + CLASS_NAME.split(' ')[0]);\n",
       "\n",
       "    if (output.metadata[EXEC_MIME_TYPE][\"id\"] !== undefined) {\n",
       "      toinsert[0].firstChild.textContent = output.data[JS_MIME_TYPE];\n",
       "      // store reference to embed id on output_area\n",
       "      output_area._bokeh_element_id = output.metadata[EXEC_MIME_TYPE][\"id\"];\n",
       "    }\n",
       "    if (output.metadata[EXEC_MIME_TYPE][\"server_id\"] !== undefined) {\n",
       "      var bk_div = document.createElement(\"div\");\n",
       "      bk_div.innerHTML = output.data[HTML_MIME_TYPE];\n",
       "      var script_attrs = bk_div.children[0].attributes;\n",
       "      for (var i = 0; i < script_attrs.length; i++) {\n",
       "        toinsert[0].firstChild.setAttribute(script_attrs[i].name, script_attrs[i].value);\n",
       "      }\n",
       "      // store reference to server id on output_area\n",
       "      output_area._bokeh_server_id = output.metadata[EXEC_MIME_TYPE][\"server_id\"];\n",
       "    }\n",
       "  }\n",
       "\n",
       "  function register_renderer(events, OutputArea) {\n",
       "\n",
       "    function append_mime(data, metadata, element) {\n",
       "      // create a DOM node to render to\n",
       "      var toinsert = this.create_output_subarea(\n",
       "        metadata,\n",
       "        CLASS_NAME,\n",
       "        EXEC_MIME_TYPE\n",
       "      );\n",
       "      this.keyboard_manager.register_events(toinsert);\n",
       "      // Render to node\n",
       "      var props = {data: data, metadata: metadata[EXEC_MIME_TYPE]};\n",
       "      render(props, toinsert[0]);\n",
       "      element.append(toinsert);\n",
       "      return toinsert\n",
       "    }\n",
       "\n",
       "    /* Handle when an output is cleared or removed */\n",
       "    events.on('clear_output.CodeCell', handleClearOutput);\n",
       "    events.on('delete.Cell', handleClearOutput);\n",
       "\n",
       "    /* Handle when a new output is added */\n",
       "    events.on('output_added.OutputArea', handleAddOutput);\n",
       "\n",
       "    /**\n",
       "     * Register the mime type and append_mime function with output_area\n",
       "     */\n",
       "    OutputArea.prototype.register_mime_type(EXEC_MIME_TYPE, append_mime, {\n",
       "      /* Is output safe? */\n",
       "      safe: true,\n",
       "      /* Index of renderer in `output_area.display_order` */\n",
       "      index: 0\n",
       "    });\n",
       "  }\n",
       "\n",
       "  // register the mime type if in Jupyter Notebook environment and previously unregistered\n",
       "  if (root.Jupyter !== undefined) {\n",
       "    var events = require('base/js/events');\n",
       "    var OutputArea = require('notebook/js/outputarea').OutputArea;\n",
       "\n",
       "    if (OutputArea.prototype.mime_types().indexOf(EXEC_MIME_TYPE) == -1) {\n",
       "      register_renderer(events, OutputArea);\n",
       "    }\n",
       "  }\n",
       "\n",
       "  \n",
       "  if (typeof (root._bokeh_timeout) === \"undefined\" || force === true) {\n",
       "    root._bokeh_timeout = Date.now() + 5000;\n",
       "    root._bokeh_failed_load = false;\n",
       "  }\n",
       "\n",
       "  var NB_LOAD_WARNING = {'data': {'text/html':\n",
       "     \"<div style='background-color: #fdd'>\\n\"+\n",
       "     \"<p>\\n\"+\n",
       "     \"BokehJS does not appear to have successfully loaded. If loading BokehJS from CDN, this \\n\"+\n",
       "     \"may be due to a slow or bad network connection. Possible fixes:\\n\"+\n",
       "     \"</p>\\n\"+\n",
       "     \"<ul>\\n\"+\n",
       "     \"<li>re-rerun `output_notebook()` to attempt to load from CDN again, or</li>\\n\"+\n",
       "     \"<li>use INLINE resources instead, as so:</li>\\n\"+\n",
       "     \"</ul>\\n\"+\n",
       "     \"<code>\\n\"+\n",
       "     \"from bokeh.resources import INLINE\\n\"+\n",
       "     \"output_notebook(resources=INLINE)\\n\"+\n",
       "     \"</code>\\n\"+\n",
       "     \"</div>\"}};\n",
       "\n",
       "  function display_loaded() {\n",
       "    var el = document.getElementById(\"ca7a9be8-096d-43e6-b3e6-2433763b214f\");\n",
       "    if (el != null) {\n",
       "      el.textContent = \"BokehJS is loading...\";\n",
       "    }\n",
       "    if (root.Bokeh !== undefined) {\n",
       "      if (el != null) {\n",
       "        el.textContent = \"BokehJS \" + root.Bokeh.version + \" successfully loaded.\";\n",
       "      }\n",
       "    } else if (Date.now() < root._bokeh_timeout) {\n",
       "      setTimeout(display_loaded, 100)\n",
       "    }\n",
       "  }\n",
       "\n",
       "\n",
       "  function run_callbacks() {\n",
       "    try {\n",
       "      root._bokeh_onload_callbacks.forEach(function(callback) { callback() });\n",
       "    }\n",
       "    finally {\n",
       "      delete root._bokeh_onload_callbacks\n",
       "    }\n",
       "    console.info(\"Bokeh: all callbacks have finished\");\n",
       "  }\n",
       "\n",
       "  function load_libs(js_urls, callback) {\n",
       "    root._bokeh_onload_callbacks.push(callback);\n",
       "    if (root._bokeh_is_loading > 0) {\n",
       "      console.log(\"Bokeh: BokehJS is being loaded, scheduling callback at\", now());\n",
       "      return null;\n",
       "    }\n",
       "    if (js_urls == null || js_urls.length === 0) {\n",
       "      run_callbacks();\n",
       "      return null;\n",
       "    }\n",
       "    console.log(\"Bokeh: BokehJS not loaded, scheduling load and callback at\", now());\n",
       "    root._bokeh_is_loading = js_urls.length;\n",
       "    for (var i = 0; i < js_urls.length; i++) {\n",
       "      var url = js_urls[i];\n",
       "      var s = document.createElement('script');\n",
       "      s.src = url;\n",
       "      s.async = false;\n",
       "      s.onreadystatechange = s.onload = function() {\n",
       "        root._bokeh_is_loading--;\n",
       "        if (root._bokeh_is_loading === 0) {\n",
       "          console.log(\"Bokeh: all BokehJS libraries loaded\");\n",
       "          run_callbacks()\n",
       "        }\n",
       "      };\n",
       "      s.onerror = function() {\n",
       "        console.warn(\"failed to load library \" + url);\n",
       "      };\n",
       "      console.log(\"Bokeh: injecting script tag for BokehJS library: \", url);\n",
       "      document.getElementsByTagName(\"head\")[0].appendChild(s);\n",
       "    }\n",
       "  };var element = document.getElementById(\"ca7a9be8-096d-43e6-b3e6-2433763b214f\");\n",
       "  if (element == null) {\n",
       "    console.log(\"Bokeh: ERROR: autoload.js configured with elementid 'ca7a9be8-096d-43e6-b3e6-2433763b214f' but no matching script tag was found. \")\n",
       "    return false;\n",
       "  }\n",
       "\n",
       "  var js_urls = [\"https://cdn.pydata.org/bokeh/release/bokeh-0.12.13.min.js\", \"https://cdn.pydata.org/bokeh/release/bokeh-widgets-0.12.13.min.js\", \"https://cdn.pydata.org/bokeh/release/bokeh-tables-0.12.13.min.js\", \"https://cdn.pydata.org/bokeh/release/bokeh-gl-0.12.13.min.js\"];\n",
       "\n",
       "  var inline_js = [\n",
       "    function(Bokeh) {\n",
       "      Bokeh.set_log_level(\"info\");\n",
       "    },\n",
       "    \n",
       "    function(Bokeh) {\n",
       "      \n",
       "    },\n",
       "    function(Bokeh) {\n",
       "      console.log(\"Bokeh: injecting CSS: https://cdn.pydata.org/bokeh/release/bokeh-0.12.13.min.css\");\n",
       "      Bokeh.embed.inject_css(\"https://cdn.pydata.org/bokeh/release/bokeh-0.12.13.min.css\");\n",
       "      console.log(\"Bokeh: injecting CSS: https://cdn.pydata.org/bokeh/release/bokeh-widgets-0.12.13.min.css\");\n",
       "      Bokeh.embed.inject_css(\"https://cdn.pydata.org/bokeh/release/bokeh-widgets-0.12.13.min.css\");\n",
       "      console.log(\"Bokeh: injecting CSS: https://cdn.pydata.org/bokeh/release/bokeh-tables-0.12.13.min.css\");\n",
       "      Bokeh.embed.inject_css(\"https://cdn.pydata.org/bokeh/release/bokeh-tables-0.12.13.min.css\");\n",
       "    }\n",
       "  ];\n",
       "\n",
       "  function run_inline_js() {\n",
       "    \n",
       "    if ((root.Bokeh !== undefined) || (force === true)) {\n",
       "      for (var i = 0; i < inline_js.length; i++) {\n",
       "        inline_js[i].call(root, root.Bokeh);\n",
       "      }if (force === true) {\n",
       "        display_loaded();\n",
       "      }} else if (Date.now() < root._bokeh_timeout) {\n",
       "      setTimeout(run_inline_js, 100);\n",
       "    } else if (!root._bokeh_failed_load) {\n",
       "      console.log(\"Bokeh: BokehJS failed to load within specified timeout.\");\n",
       "      root._bokeh_failed_load = true;\n",
       "    } else if (force !== true) {\n",
       "      var cell = $(document.getElementById(\"ca7a9be8-096d-43e6-b3e6-2433763b214f\")).parents('.cell').data().cell;\n",
       "      cell.output_area.append_execute_result(NB_LOAD_WARNING)\n",
       "    }\n",
       "\n",
       "  }\n",
       "\n",
       "  if (root._bokeh_is_loading === 0) {\n",
       "    console.log(\"Bokeh: BokehJS loaded, going straight to plotting\");\n",
       "    run_inline_js();\n",
       "  } else {\n",
       "    load_libs(js_urls, function() {\n",
       "      console.log(\"Bokeh: BokehJS plotting callback run at\", now());\n",
       "      run_inline_js();\n",
       "    });\n",
       "  }\n",
       "}(window));"
      ],
      "application/vnd.bokehjs_load.v0+json": "\n(function(root) {\n  function now() {\n    return new Date();\n  }\n\n  var force = true;\n\n  if (typeof (root._bokeh_onload_callbacks) === \"undefined\" || force === true) {\n    root._bokeh_onload_callbacks = [];\n    root._bokeh_is_loading = undefined;\n  }\n\n  \n\n  \n  if (typeof (root._bokeh_timeout) === \"undefined\" || force === true) {\n    root._bokeh_timeout = Date.now() + 5000;\n    root._bokeh_failed_load = false;\n  }\n\n  var NB_LOAD_WARNING = {'data': {'text/html':\n     \"<div style='background-color: #fdd'>\\n\"+\n     \"<p>\\n\"+\n     \"BokehJS does not appear to have successfully loaded. If loading BokehJS from CDN, this \\n\"+\n     \"may be due to a slow or bad network connection. Possible fixes:\\n\"+\n     \"</p>\\n\"+\n     \"<ul>\\n\"+\n     \"<li>re-rerun `output_notebook()` to attempt to load from CDN again, or</li>\\n\"+\n     \"<li>use INLINE resources instead, as so:</li>\\n\"+\n     \"</ul>\\n\"+\n     \"<code>\\n\"+\n     \"from bokeh.resources import INLINE\\n\"+\n     \"output_notebook(resources=INLINE)\\n\"+\n     \"</code>\\n\"+\n     \"</div>\"}};\n\n  function display_loaded() {\n    var el = document.getElementById(\"ca7a9be8-096d-43e6-b3e6-2433763b214f\");\n    if (el != null) {\n      el.textContent = \"BokehJS is loading...\";\n    }\n    if (root.Bokeh !== undefined) {\n      if (el != null) {\n        el.textContent = \"BokehJS \" + root.Bokeh.version + \" successfully loaded.\";\n      }\n    } else if (Date.now() < root._bokeh_timeout) {\n      setTimeout(display_loaded, 100)\n    }\n  }\n\n\n  function run_callbacks() {\n    try {\n      root._bokeh_onload_callbacks.forEach(function(callback) { callback() });\n    }\n    finally {\n      delete root._bokeh_onload_callbacks\n    }\n    console.info(\"Bokeh: all callbacks have finished\");\n  }\n\n  function load_libs(js_urls, callback) {\n    root._bokeh_onload_callbacks.push(callback);\n    if (root._bokeh_is_loading > 0) {\n      console.log(\"Bokeh: BokehJS is being loaded, scheduling callback at\", now());\n      return null;\n    }\n    if (js_urls == null || js_urls.length === 0) {\n      run_callbacks();\n      return null;\n    }\n    console.log(\"Bokeh: BokehJS not loaded, scheduling load and callback at\", now());\n    root._bokeh_is_loading = js_urls.length;\n    for (var i = 0; i < js_urls.length; i++) {\n      var url = js_urls[i];\n      var s = document.createElement('script');\n      s.src = url;\n      s.async = false;\n      s.onreadystatechange = s.onload = function() {\n        root._bokeh_is_loading--;\n        if (root._bokeh_is_loading === 0) {\n          console.log(\"Bokeh: all BokehJS libraries loaded\");\n          run_callbacks()\n        }\n      };\n      s.onerror = function() {\n        console.warn(\"failed to load library \" + url);\n      };\n      console.log(\"Bokeh: injecting script tag for BokehJS library: \", url);\n      document.getElementsByTagName(\"head\")[0].appendChild(s);\n    }\n  };var element = document.getElementById(\"ca7a9be8-096d-43e6-b3e6-2433763b214f\");\n  if (element == null) {\n    console.log(\"Bokeh: ERROR: autoload.js configured with elementid 'ca7a9be8-096d-43e6-b3e6-2433763b214f' but no matching script tag was found. \")\n    return false;\n  }\n\n  var js_urls = [\"https://cdn.pydata.org/bokeh/release/bokeh-0.12.13.min.js\", \"https://cdn.pydata.org/bokeh/release/bokeh-widgets-0.12.13.min.js\", \"https://cdn.pydata.org/bokeh/release/bokeh-tables-0.12.13.min.js\", \"https://cdn.pydata.org/bokeh/release/bokeh-gl-0.12.13.min.js\"];\n\n  var inline_js = [\n    function(Bokeh) {\n      Bokeh.set_log_level(\"info\");\n    },\n    \n    function(Bokeh) {\n      \n    },\n    function(Bokeh) {\n      console.log(\"Bokeh: injecting CSS: https://cdn.pydata.org/bokeh/release/bokeh-0.12.13.min.css\");\n      Bokeh.embed.inject_css(\"https://cdn.pydata.org/bokeh/release/bokeh-0.12.13.min.css\");\n      console.log(\"Bokeh: injecting CSS: https://cdn.pydata.org/bokeh/release/bokeh-widgets-0.12.13.min.css\");\n      Bokeh.embed.inject_css(\"https://cdn.pydata.org/bokeh/release/bokeh-widgets-0.12.13.min.css\");\n      console.log(\"Bokeh: injecting CSS: https://cdn.pydata.org/bokeh/release/bokeh-tables-0.12.13.min.css\");\n      Bokeh.embed.inject_css(\"https://cdn.pydata.org/bokeh/release/bokeh-tables-0.12.13.min.css\");\n    }\n  ];\n\n  function run_inline_js() {\n    \n    if ((root.Bokeh !== undefined) || (force === true)) {\n      for (var i = 0; i < inline_js.length; i++) {\n        inline_js[i].call(root, root.Bokeh);\n      }if (force === true) {\n        display_loaded();\n      }} else if (Date.now() < root._bokeh_timeout) {\n      setTimeout(run_inline_js, 100);\n    } else if (!root._bokeh_failed_load) {\n      console.log(\"Bokeh: BokehJS failed to load within specified timeout.\");\n      root._bokeh_failed_load = true;\n    } else if (force !== true) {\n      var cell = $(document.getElementById(\"ca7a9be8-096d-43e6-b3e6-2433763b214f\")).parents('.cell').data().cell;\n      cell.output_area.append_execute_result(NB_LOAD_WARNING)\n    }\n\n  }\n\n  if (root._bokeh_is_loading === 0) {\n    console.log(\"Bokeh: BokehJS loaded, going straight to plotting\");\n    run_inline_js();\n  } else {\n    load_libs(js_urls, function() {\n      console.log(\"Bokeh: BokehJS plotting callback run at\", now());\n      run_inline_js();\n    });\n  }\n}(window));"
     },
     "metadata": {},
     "output_type": "display_data"
    },
    {
     "name": "stdout",
     "output_type": "stream",
     "text": [
      "<class 'pandas.core.frame.DataFrame'>\n",
      "RangeIndex: 929 entries, 0 to 928\n",
      "Data columns (total 4 columns):\n",
      "CollectionDate                929 non-null object\n",
      "CrimeGunsRecovered            929 non-null int64\n",
      "GunsSurrenderedSafeguarded    929 non-null int64\n",
      "BuybackGunsRecovered          929 non-null int64\n",
      "dtypes: int64(3), object(1)\n",
      "memory usage: 29.1+ KB\n",
      "None\n"
     ]
    }
   ],
   "source": [
    "#Useful imports\n",
    "import numpy as np\n",
    "import pandas as pd\n",
    "import matplotlib.pyplot as plt\n",
    "import seaborn as sns\n",
    "from bokeh.plotting import figure, output_file, show\n",
    "from bokeh.io import output_notebook\n",
    "output_notebook()\n",
    "%matplotlib inline\n",
    "from numpy import random\n",
    "import io\n",
    "import requests\n",
    "from numpy import array\n",
    "from numpy import argmax\n",
    "from sklearn.preprocessing import LabelEncoder\n",
    "from sklearn.preprocessing import OneHotEncoder\n",
    "## Importing Boston Police Department Firearm Recovery Counts dataset from https://data.boston.gov/\n",
    "url = \"https://data.boston.gov/dataset/3937b427-6aa4-4515-b30d-c76771313feb/resource/a3d2260f-8a41-4e95-9134-d14711b0f954/download/bpdfirearmrecoveries20180419.csv\"\n",
    "s = requests.get(url).content\n",
    "firearm = pd.read_csv(io.StringIO(s.decode('utf-8')))\n",
    "print(firearm.info())"
   ]
  },
  {
   "cell_type": "code",
   "execution_count": 2,
   "metadata": {},
   "outputs": [
    {
     "name": "stdout",
     "output_type": "stream",
     "text": [
      "<class 'pandas.core.frame.DataFrame'>\n",
      "RangeIndex: 929 entries, 0 to 928\n",
      "Data columns (total 4 columns):\n",
      "CollectionDate                929 non-null object\n",
      "CrimeGunsRecovered            929 non-null int64\n",
      "GunsSurrenderedSafeguarded    929 non-null int64\n",
      "BuybackGunsRecovered          929 non-null int64\n",
      "dtypes: int64(3), object(1)\n",
      "memory usage: 29.1+ KB\n"
     ]
    },
    {
     "name": "stderr",
     "output_type": "stream",
     "text": [
      "C:\\Users\\Ashok\\Anaconda3\\lib\\site-packages\\ipykernel_launcher.py:11: SettingWithCopyWarning: \n",
      "A value is trying to be set on a copy of a slice from a DataFrame.\n",
      "Try using .loc[row_indexer,col_indexer] = value instead\n",
      "\n",
      "See the caveats in the documentation: http://pandas.pydata.org/pandas-docs/stable/indexing.html#indexing-view-versus-copy\n",
      "  # This is added back by InteractiveShellApp.init_path()\n"
     ]
    },
    {
     "data": {
      "text/html": [
       "<div>\n",
       "<style scoped>\n",
       "    .dataframe tbody tr th:only-of-type {\n",
       "        vertical-align: middle;\n",
       "    }\n",
       "\n",
       "    .dataframe tbody tr th {\n",
       "        vertical-align: top;\n",
       "    }\n",
       "\n",
       "    .dataframe thead th {\n",
       "        text-align: right;\n",
       "    }\n",
       "</style>\n",
       "<table border=\"1\" class=\"dataframe\">\n",
       "  <thead>\n",
       "    <tr style=\"text-align: right;\">\n",
       "      <th></th>\n",
       "      <th>year</th>\n",
       "      <th>month</th>\n",
       "      <th>day</th>\n",
       "      <th>CrimeGunsRecovered</th>\n",
       "      <th>GunsSurrenderedSafeguarded</th>\n",
       "      <th>BuybackGunsRecovered</th>\n",
       "      <th>Totalgunsrecovered</th>\n",
       "    </tr>\n",
       "  </thead>\n",
       "  <tbody>\n",
       "    <tr>\n",
       "      <th>0</th>\n",
       "      <td>2014</td>\n",
       "      <td>8</td>\n",
       "      <td>20</td>\n",
       "      <td>2</td>\n",
       "      <td>3</td>\n",
       "      <td>1</td>\n",
       "      <td>6</td>\n",
       "    </tr>\n",
       "    <tr>\n",
       "      <th>1</th>\n",
       "      <td>2014</td>\n",
       "      <td>8</td>\n",
       "      <td>21</td>\n",
       "      <td>2</td>\n",
       "      <td>0</td>\n",
       "      <td>4</td>\n",
       "      <td>6</td>\n",
       "    </tr>\n",
       "    <tr>\n",
       "      <th>2</th>\n",
       "      <td>2014</td>\n",
       "      <td>8</td>\n",
       "      <td>22</td>\n",
       "      <td>0</td>\n",
       "      <td>0</td>\n",
       "      <td>2</td>\n",
       "      <td>2</td>\n",
       "    </tr>\n",
       "    <tr>\n",
       "      <th>3</th>\n",
       "      <td>2014</td>\n",
       "      <td>8</td>\n",
       "      <td>25</td>\n",
       "      <td>8</td>\n",
       "      <td>3</td>\n",
       "      <td>0</td>\n",
       "      <td>11</td>\n",
       "    </tr>\n",
       "    <tr>\n",
       "      <th>4</th>\n",
       "      <td>2014</td>\n",
       "      <td>8</td>\n",
       "      <td>26</td>\n",
       "      <td>9</td>\n",
       "      <td>0</td>\n",
       "      <td>0</td>\n",
       "      <td>9</td>\n",
       "    </tr>\n",
       "  </tbody>\n",
       "</table>\n",
       "</div>"
      ],
      "text/plain": [
       "   year  month  day  CrimeGunsRecovered  GunsSurrenderedSafeguarded  \\\n",
       "0  2014      8   20                   2                           3   \n",
       "1  2014      8   21                   2                           0   \n",
       "2  2014      8   22                   0                           0   \n",
       "3  2014      8   25                   8                           3   \n",
       "4  2014      8   26                   9                           0   \n",
       "\n",
       "   BuybackGunsRecovered  Totalgunsrecovered  \n",
       "0                     1                   6  \n",
       "1                     4                   6  \n",
       "2                     2                   2  \n",
       "3                     0                  11  \n",
       "4                     0                   9  "
      ]
     },
     "execution_count": 2,
     "metadata": {},
     "output_type": "execute_result"
    }
   ],
   "source": [
    "##Data cleaning for firearm dataset\n",
    "firearm= pd.DataFrame(data= firearm)\n",
    "firearm.head()\n",
    "firearm.isnull().sum()\n",
    "firearm.info()\n",
    "#so, there are no missing values in firearm dataset, and we are going to use all three variables in this dataset.\n",
    "#we want to create seperate columns for Collection date variable in the same dataset\n",
    "firearm['date'] = pd.to_datetime(firearm['CollectionDate'])\n",
    "firearm['year'], firearm['month'], firearm['day'] = firearm['date'].dt.year, firearm['date'].dt.month, firearm['date'].dt.day\n",
    "nfirearm= firearm[['year', 'month', 'day','CrimeGunsRecovered', 'GunsSurrenderedSafeguarded', 'BuybackGunsRecovered']]\n",
    "nfirearm['Totalgunsrecovered']= nfirearm.CrimeGunsRecovered + nfirearm.GunsSurrenderedSafeguarded + nfirearm.BuybackGunsRecovered\n",
    "nfirearm.head()\n",
    "#Total guns recovered is a sum of CrimeGunsRecovered, GunsSurrenderedSafeguarded, and BuybackGunsRecovered"
   ]
  },
  {
   "cell_type": "code",
   "execution_count": 44,
   "metadata": {
    "scrolled": true
   },
   "outputs": [
    {
     "data": {
      "text/plain": [
       "Text(0.5,1,'Total number of guns recovered through different approaches on yearly-basis')"
      ]
     },
     "execution_count": 44,
     "metadata": {},
     "output_type": "execute_result"
    },
    {
     "data": {
      "image/png": "[encoded data removed]",
      "text/plain": [
       "<matplotlib.figure.Figure at 0x1aa161f2748>"
      ]
     },
     "metadata": {},
     "output_type": "display_data"
    }
   ],
   "source": [
    "BPD= nfirearm.groupby(\"year\")['CrimeGunsRecovered', 'GunsSurrenderedSafeguarded', 'BuybackGunsRecovered', 'Totalgunsrecovered'].sum()\n",
    "BPD= pd.DataFrame(data= BPD)\n",
    "BPD= BPD.reset_index()\n",
    "plt.figure(figsize=(15,5))\n",
    "plt.xticks(BPD.year, ('2014', '2015','2016','2017', '2018'))\n",
    "plt.bar(BPD.year, BPD.Totalgunsrecovered, color=sns.color_palette(\"Blues\",3))\n",
    "plt.title(\"Total number of guns recovered through different approaches on yearly-basis\")\n"
   ]
  },
  {
   "cell_type": "markdown",
   "metadata": {},
   "source": [
    "#### The above bar graph shows the time series analysis of total number of guns recovered through all the three approaches (CrimeGunsRecovered, GunsSurrenderedSafeguarded, BuybackGunsRecovered). It clearly shows that highest number of guns recovered are in the year 2015, 2016 and 2017, whereas in the year 2018, it has the lowest number of gun recovery incidents(because of less data available for the year 2018)."
   ]
  },
  {
   "cell_type": "code",
   "execution_count": 4,
   "metadata": {
    "scrolled": false
   },
   "outputs": [
    {
     "data": {
      "text/plain": [
       "Text(0.5,1,'Number of guns recovered through different approaches on yearly-basis')"
      ]
     },
     "execution_count": 4,
     "metadata": {},
     "output_type": "execute_result"
    },
    {
     "data": {
      "image/png": "[encoded data removed]",
      "text/plain": [
       "<matplotlib.figure.Figure at 0x1aa110ff278>"
      ]
     },
     "metadata": {},
     "output_type": "display_data"
    }
   ],
   "source": [
    "BPD1= BPD.iloc[:,1:4]\n",
    "plt.figure(figsize=(10,8))\n",
    "#plt.xticks(BPD.year, ('2014','2015','2016', '2017', '2018'))\n",
    "M= sns.boxplot(data= BPD1, meanline= True, showmeans= True, palette=\"Set3\")\n",
    "plt.title(\"Number of guns recovered through different approaches on yearly-basis\")\n"
   ]
  },
  {
   "cell_type": "markdown",
   "metadata": {},
   "source": [
    "#### The above box plot shows the data distribution of all the three approaches which indicates the first quartile, second quartile, third quartile, median, and mean. The dotted green line indicates the mean line. In addition, there are no outliers in the dataset."
   ]
  },
  {
   "cell_type": "code",
   "execution_count": 6,
   "metadata": {},
   "outputs": [
    {
     "data": {
      "image/png": "[encoded data removed]",
      "text/plain": [
       "<matplotlib.figure.Figure at 0x1aa151ee748>"
      ]
     },
     "metadata": {},
     "output_type": "display_data"
    }
   ],
   "source": [
    "# Default distribution plot\n",
    "plt.figure(figsize=(15,5))\n",
    "plt.subplot(2, 2,1)\n",
    "sns.distplot(nfirearm.Totalgunsrecovered);\n",
    "plt.subplot(2, 2,2)\n",
    "sns.distplot(nfirearm.CrimeGunsRecovered);\n",
    "plt.subplot(2, 2,3)\n",
    "sns.distplot(nfirearm.GunsSurrenderedSafeguarded);\n",
    "plt.subplot(2, 2,4)\n",
    "sns.distplot(nfirearm.BuybackGunsRecovered);\n",
    "plt.tight_layout()"
   ]
  },
  {
   "cell_type": "markdown",
   "metadata": {},
   "source": [
    "#### In the above distribution plots, the data distribution is right skewed in all the variables."
   ]
  },
  {
   "cell_type": "code",
   "execution_count": 10,
   "metadata": {},
   "outputs": [
    {
     "name": "stderr",
     "output_type": "stream",
     "text": [
      "C:\\Users\\Ashok\\Anaconda3\\lib\\site-packages\\ipykernel_launcher.py:6: DataConversionWarning: A column-vector y was passed when a 1d array was expected. Please change the shape of y to (n_samples,), for example using ravel().\n",
      "  \n"
     ]
    },
    {
     "name": "stdout",
     "output_type": "stream",
     "text": [
      "             precision    recall  f1-score   support\n",
      "\n",
      "        0.0       1.00      0.70      0.82       253\n",
      "        1.0       0.81      0.71      0.76       208\n",
      "        2.0       0.67      0.56      0.61       186\n",
      "        3.0       0.57      0.60      0.59       123\n",
      "        4.0       0.33      0.53      0.41        55\n",
      "        5.0       0.41      0.66      0.51        44\n",
      "        6.0       0.37      0.81      0.51        21\n",
      "        7.0       0.33      0.59      0.43        17\n",
      "        8.0       0.32      0.80      0.46        10\n",
      "        9.0       0.29      0.88      0.44         8\n",
      "       10.0       0.00      0.00      0.00         1\n",
      "       11.0       0.00      0.00      0.00         1\n",
      "       13.0       0.00      0.00      0.00         1\n",
      "       16.0       1.00      1.00      1.00         1\n",
      "\n",
      "avg / total       0.72      0.65      0.67       929\n",
      "\n"
     ]
    },
    {
     "name": "stderr",
     "output_type": "stream",
     "text": [
      "C:\\Users\\Ashok\\Anaconda3\\lib\\site-packages\\sklearn\\metrics\\classification.py:1135: UndefinedMetricWarning: Precision and F-score are ill-defined and being set to 0.0 in labels with no predicted samples.\n",
      "  'precision', 'predicted', average, warn_for)\n"
     ]
    }
   ],
   "source": [
    "import sklearn\n",
    "from patsy import dmatrices\n",
    "from sklearn import ensemble\n",
    "y, X = dmatrices('CrimeGunsRecovered ~ Totalgunsrecovered', data=nfirearm)\n",
    "model = sklearn.ensemble.RandomForestClassifier()\n",
    "model.fit(X,y)\n",
    "yhat = model.predict(X)\n",
    "print(sklearn.metrics.classification_report(y, yhat))"
   ]
  },
  {
   "cell_type": "markdown",
   "metadata": {},
   "source": [
    "#### Conclusion: In the entire test dataset, 72% predicted number of crime guns recovered are accurate, and moroever 65% of the data predicted is relevant or correctly predicted based on the actual number of crime guns recovered."
   ]
  },
  {
   "cell_type": "code",
   "execution_count": 13,
   "metadata": {},
   "outputs": [],
   "source": [
    "## Importing BPD Field Interrogation and Observation (FIO) dataset from https://data.boston.gov/\n",
    "url = \"https://data.boston.gov/dataset/4ebae674-28c1-4b9b-adc3-c04c99234a68/resource/c696738d-2625-4337-8c50-123c2a85fbad/download/boston-police-department-fio.csv\"\n",
    "s = requests.get(url).content\n",
    "fio = pd.read_csv(io.StringIO(s.decode('utf-8')))\n",
    "#deleting unwanted variables\n",
    "fio= fio.drop(['SEQ_NUM', 'LOCATION', 'DIST', 'DIST_ID', 'FIO_TIME', 'CLOTHING', 'FIOFS_TYPE', 'SEARCH', 'ENTEREDBY',\n",
    "               'FIOFS_REASONS', 'OFFICER', 'VEH_YEAR_NUM', 'VEH_COLOR', 'VEH_MODEL', 'SUPERVISOR_ID', 'OFFICER_ID', \n",
    "               'SUPERVISOR', 'OFF_DIST_ID', 'OFF_DIST', 'OFFICER', 'SUP_ENTRYDATE', 'LAST_UPDATEBY', 'LAST_UPDATETIME',\n",
    "               'ETHNICITY', 'FIRST_INSERTTIME', 'ACTIVE_ID', 'RACE_ID', 'FIO_DATE_CORRECTED', 'STREET_ID'], axis= 1)"
   ]
  },
  {
   "cell_type": "code",
   "execution_count": 14,
   "metadata": {},
   "outputs": [],
   "source": [
    "## Data cleaning for fio dataset\n",
    "nfio= pd.DataFrame(data= fio) # Converting into dataframe\n",
    "nfio.head()\n",
    "nfio.isnull().sum()          \n",
    "nfio['date'] = pd.to_datetime(nfio['FIO_DATE']) # creating new variable date\n",
    "nfio['year'], nfio['month'], nfio['day'] = nfio['date'].dt.year, nfio['date'].dt.month, nfio['date'].dt.day # seperating date variable in year, month and day\n",
    "nfio= nfio[nfio['year'] <= 2018] # deleting unwanted data\n",
    "nfio= nfio.drop(['FIO_DATE'], axis= 1) # dropping FIO_DATE variable"
   ]
  },
  {
   "cell_type": "code",
   "execution_count": 15,
   "metadata": {},
   "outputs": [],
   "source": [
    "#Identify the a) ID variables b)  Target variables c) Categorical Variables\n",
    "ID_col = ['FIO_ID']\n",
    "target_col = [\"TERRORISM\"]\n",
    "cat_cols = ['SEX','PRIORS','DESCRIPTION','COMPLEXION','BASIS','STOP_REASONS', 'OUTCOME','VEH_MAKE',\n",
    "            'VEH_OCCUPANT','VEH_STATE','RACE_DESC','CITY']\n"
   ]
  },
  {
   "cell_type": "code",
   "execution_count": 16,
   "metadata": {},
   "outputs": [],
   "source": [
    "#Impute categorical missing values with -9999\n",
    "nfio[cat_cols] = nfio[cat_cols].fillna(value = -9999)"
   ]
  },
  {
   "cell_type": "code",
   "execution_count": 17,
   "metadata": {},
   "outputs": [],
   "source": [
    "#Creating a new dataframe\n",
    "nfio1= pd.DataFrame(data= nfio)"
   ]
  },
  {
   "cell_type": "code",
   "execution_count": 18,
   "metadata": {},
   "outputs": [],
   "source": [
    "nfio1= nfio1[nfio1['AGE_AT_FIO_CORRECTED'] >= 18] # deleting unwanted data\n",
    "nfio1= nfio1[nfio1['AGE_AT_FIO_CORRECTED'] <= 100]# deleting unwanted data"
   ]
  },
  {
   "cell_type": "code",
   "execution_count": 19,
   "metadata": {},
   "outputs": [
    {
     "data": {
      "text/html": [
       "<div>\n",
       "<style scoped>\n",
       "    .dataframe tbody tr th:only-of-type {\n",
       "        vertical-align: middle;\n",
       "    }\n",
       "\n",
       "    .dataframe tbody tr th {\n",
       "        vertical-align: top;\n",
       "    }\n",
       "\n",
       "    .dataframe thead th {\n",
       "        text-align: right;\n",
       "    }\n",
       "</style>\n",
       "<table border=\"1\" class=\"dataframe\">\n",
       "  <thead>\n",
       "    <tr style=\"text-align: right;\">\n",
       "      <th></th>\n",
       "      <th>FIO_ID</th>\n",
       "      <th>AGE_AT_FIO_CORRECTED</th>\n",
       "      <th>year</th>\n",
       "      <th>month</th>\n",
       "      <th>day</th>\n",
       "    </tr>\n",
       "  </thead>\n",
       "  <tbody>\n",
       "    <tr>\n",
       "      <th>count</th>\n",
       "      <td>137920.000000</td>\n",
       "      <td>137920.000000</td>\n",
       "      <td>137920.000000</td>\n",
       "      <td>137920.000000</td>\n",
       "      <td>137920.000000</td>\n",
       "    </tr>\n",
       "    <tr>\n",
       "      <th>mean</th>\n",
       "      <td>590354.164059</td>\n",
       "      <td>30.020033</td>\n",
       "      <td>2012.591459</td>\n",
       "      <td>6.123173</td>\n",
       "      <td>15.552204</td>\n",
       "    </tr>\n",
       "    <tr>\n",
       "      <th>std</th>\n",
       "      <td>44547.995637</td>\n",
       "      <td>10.692148</td>\n",
       "      <td>1.373352</td>\n",
       "      <td>3.266825</td>\n",
       "      <td>8.826154</td>\n",
       "    </tr>\n",
       "    <tr>\n",
       "      <th>min</th>\n",
       "      <td>510892.000000</td>\n",
       "      <td>18.000000</td>\n",
       "      <td>1964.000000</td>\n",
       "      <td>1.000000</td>\n",
       "      <td>1.000000</td>\n",
       "    </tr>\n",
       "    <tr>\n",
       "      <th>25%</th>\n",
       "      <td>552375.750000</td>\n",
       "      <td>22.000000</td>\n",
       "      <td>2012.000000</td>\n",
       "      <td>3.000000</td>\n",
       "      <td>8.000000</td>\n",
       "    </tr>\n",
       "    <tr>\n",
       "      <th>50%</th>\n",
       "      <td>590588.500000</td>\n",
       "      <td>26.000000</td>\n",
       "      <td>2013.000000</td>\n",
       "      <td>6.000000</td>\n",
       "      <td>15.000000</td>\n",
       "    </tr>\n",
       "    <tr>\n",
       "      <th>75%</th>\n",
       "      <td>629029.250000</td>\n",
       "      <td>35.000000</td>\n",
       "      <td>2014.000000</td>\n",
       "      <td>9.000000</td>\n",
       "      <td>23.000000</td>\n",
       "    </tr>\n",
       "    <tr>\n",
       "      <th>max</th>\n",
       "      <td>666975.000000</td>\n",
       "      <td>100.000000</td>\n",
       "      <td>2018.000000</td>\n",
       "      <td>12.000000</td>\n",
       "      <td>31.000000</td>\n",
       "    </tr>\n",
       "  </tbody>\n",
       "</table>\n",
       "</div>"
      ],
      "text/plain": [
       "              FIO_ID  AGE_AT_FIO_CORRECTED           year          month  \\\n",
       "count  137920.000000         137920.000000  137920.000000  137920.000000   \n",
       "mean   590354.164059             30.020033    2012.591459       6.123173   \n",
       "std     44547.995637             10.692148       1.373352       3.266825   \n",
       "min    510892.000000             18.000000    1964.000000       1.000000   \n",
       "25%    552375.750000             22.000000    2012.000000       3.000000   \n",
       "50%    590588.500000             26.000000    2013.000000       6.000000   \n",
       "75%    629029.250000             35.000000    2014.000000       9.000000   \n",
       "max    666975.000000            100.000000    2018.000000      12.000000   \n",
       "\n",
       "                 day  \n",
       "count  137920.000000  \n",
       "mean       15.552204  \n",
       "std         8.826154  \n",
       "min         1.000000  \n",
       "25%         8.000000  \n",
       "50%        15.000000  \n",
       "75%        23.000000  \n",
       "max        31.000000  "
      ]
     },
     "execution_count": 19,
     "metadata": {},
     "output_type": "execute_result"
    }
   ],
   "source": [
    "nfio1.describe()"
   ]
  },
  {
   "cell_type": "code",
   "execution_count": 20,
   "metadata": {},
   "outputs": [
    {
     "data": {
      "image/png": "[encoded data removed]",
      "text/plain": [
       "<matplotlib.figure.Figure at 0x1aa1625dbe0>"
      ]
     },
     "metadata": {},
     "output_type": "display_data"
    }
   ],
   "source": [
    "#Creating bins for the age variable\n",
    "bins = [18, 30, 40, 50, 60, 70, 120]\n",
    "labels = ['18-29', '30-39', '40-49', '50-59', '60-69', '70+']\n",
    "nfio1['age_range'] = pd.cut(nfio1.AGE_AT_FIO_CORRECTED, bins, labels = labels,include_lowest = True)\n",
    "nfio1.AGE_AT_FIO_CORRECTED.hist()\n",
    "plt.title('Histogram of Age')\n",
    "plt.xlabel('Age')\n",
    "plt.ylabel('Frequency')\n",
    "plt.savefig('hist_age')"
   ]
  },
  {
   "cell_type": "markdown",
   "metadata": {},
   "source": [
    "#### In the above histogram, it clearly indicates that maximum number of age frequency falls within 20-35 age group"
   ]
  },
  {
   "cell_type": "code",
   "execution_count": 21,
   "metadata": {},
   "outputs": [],
   "source": [
    "#Dropping old variable called 'AGE_AT_FIO_CORRECTED'\n",
    "nfio2= nfio1.drop(['AGE_AT_FIO_CORRECTED'], axis= 1)"
   ]
  },
  {
   "cell_type": "code",
   "execution_count": 22,
   "metadata": {},
   "outputs": [],
   "source": [
    "#cat_cols1 = ['SEX','PRIORS','DESCRIPTION','COMPLEXION','BASIS','STOP_REASONS', 'OUTCOME','VEH_MAKE',\n",
    "            # 'VEH_OCCUPANT','VEH_STATE', 'CITY', 'age_range']\n",
    "cat_cols1 = ['SEX','DESCRIPTION','COMPLEXION', 'age_range'] # Creating a new dataset cat_cols1 with the list of columns chosen for running a logistic regression\n",
    "#Creating dummy variables for logistic regression model\n",
    "for var in cat_cols1:\n",
    "    cat_list='var'+'_'+var\n",
    "    cat_list = pd.get_dummies(nfio1[var], prefix=var)\n",
    "    nfio2=nfio1.join(cat_list)\n",
    "    nfio1=nfio2"
   ]
  },
  {
   "cell_type": "code",
   "execution_count": 24,
   "metadata": {},
   "outputs": [],
   "source": [
    "#creating label encoders for all categorical variables\n",
    "for var in cat_cols:\n",
    " number = LabelEncoder()\n",
    " nfio1[var] = number.fit_transform(nfio1[var].astype('str'))"
   ]
  },
  {
   "cell_type": "code",
   "execution_count": 25,
   "metadata": {},
   "outputs": [],
   "source": [
    "#Converting target variable into binary variable\n",
    "nfio1[\"TERRORISM\"] = number.fit_transform(nfio1[\"TERRORISM\"].astype('str'))"
   ]
  },
  {
   "cell_type": "code",
   "execution_count": 26,
   "metadata": {},
   "outputs": [
    {
     "data": {
      "image/png": "[encoded data removed]",
      "text/plain": [
       "<matplotlib.figure.Figure at 0x1aa16592b00>"
      ]
     },
     "metadata": {},
     "output_type": "display_data"
    }
   ],
   "source": [
    "##Data Visualization of fio dataset\n",
    "AA= nfio2.groupby(\"SEX\")['STOP_REASONS'].count()\n",
    "AA= pd.DataFrame(data= AA)\n",
    "AA= AA.reset_index()\n",
    "plt.figure(figsize=(15,5))\n",
    "plt.xticks(AA.SEX, ('0','1','2'))\n",
    "D= plt.bar(AA.SEX, AA.STOP_REASONS, color=sns.color_palette(\"Blues\",3))\n",
    "plt.title('Number of male and female stopped by field investigation police officer')\n",
    "#plt.legend('Female', 'Male', 'Unknown')\n",
    "plt.ylabel('Number of times vehicles stopped by FIPO')\n",
    "plt.xlabel('Sex')\n",
    "plt.legend(D, ['Female','Male','Unknown'], loc = \"upper left\", title = \"Sex\")\n",
    "plt.show()"
   ]
  },
  {
   "cell_type": "markdown",
   "metadata": {},
   "source": [
    "#### In the above bar graph, it clearly indicates that majority of them are male sex(Label= 1) driver of vehicle which are being stopped by field police officer as compared with female drivers(0). The Y-axis variable represents the number of times the individual stopped by the field investigative officer  "
   ]
  },
  {
   "cell_type": "code",
   "execution_count": 27,
   "metadata": {},
   "outputs": [
    {
     "data": {
      "image/png": "[encoded data removed]",
      "text/plain": [
       "<matplotlib.figure.Figure at 0x1aa15a3dba8>"
      ]
     },
     "metadata": {},
     "output_type": "display_data"
    }
   ],
   "source": [
    "AB= nfio.groupby('CITY')['STOP_REASONS'].count()\n",
    "AB= pd.DataFrame(data= AB)\n",
    "AB= AB.reset_index()\n",
    "AB= AB.sort_values('STOP_REASONS', ascending= False)\n",
    "AB= AB[AB['STOP_REASONS']<= 2000]\n",
    "plt.figure(figsize=(15,5))\n",
    "F= plt.bar(AB.CITY, AB.STOP_REASONS, color=sns.color_palette(\"husl\", 14))\n",
    "# plt.legend(F, ['Allston','Back Bay','Beacon Hill','Brighton', 'Charlestown', 'Chinatown', 'Downtown', 'Fenway Kenmore',\n",
    "#              'Jamaica Plain','Mission Hill', 'North End', 'Roslindale', 'South End', 'West Roxbury'], loc = \"upper left\", title = \"City\")\n",
    "#plt.legend([F])\n",
    "plt.xticks(rotation=90)\n",
    "plt.title('Total number of vehicles stopped in the different city by field investigation police officer')\n",
    "plt.ylabel('Number of times vehicles stopped by FIPO')\n",
    "plt.xlabel('City')\n",
    "plt.show()"
   ]
  },
  {
   "cell_type": "markdown",
   "metadata": {},
   "source": [
    "#### In the above graph, it shows the number of times vehicle stopped in different city by the field investigation police officer. It has been analysed that maximum number of vehicles stopped are in jamaica plain, Charlestown, South End, West Roxbury, Brighton and so on. This graph helps us assume that number of traffic violations, and various other crimes are higher as compared to other cities. This has caused police officers to be alert and investigative all the time in this localities."
   ]
  },
  {
   "cell_type": "code",
   "execution_count": 28,
   "metadata": {},
   "outputs": [
    {
     "name": "stderr",
     "output_type": "stream",
     "text": [
      "C:\\Users\\Ashok\\Anaconda3\\lib\\site-packages\\matplotlib\\cbook\\deprecation.py:106: MatplotlibDeprecationWarning: The Vega20_r colormap was deprecated in version 2.0. Use tab20_r instead.\n",
      "  warnings.warn(message, mplDeprecation, stacklevel=1)\n"
     ]
    },
    {
     "data": {
      "text/plain": [
       "Text(0.5,1,'Total number of vehicles stopped by field investigation police officer on yearly-basis')"
      ]
     },
     "execution_count": 28,
     "metadata": {},
     "output_type": "execute_result"
    },
    {
     "data": {
      "image/png": "[encoded data removed]",
      "text/plain": [
       "<matplotlib.figure.Figure at 0x1aa15a1ac88>"
      ]
     },
     "metadata": {},
     "output_type": "display_data"
    }
   ],
   "source": [
    "AD= nfio2.groupby('year')['STOP_REASONS'].count()\n",
    "AD= pd.DataFrame(data= AD)\n",
    "AD= AD.reset_index()\n",
    "AD= AD.sort_values('STOP_REASONS', ascending= False)\n",
    "AD= AD[AD['STOP_REASONS']> 100]\n",
    "plt.figure(figsize=(15,5))\n",
    "G= plt.bar(AD.year, AD.STOP_REASONS, color=sns.color_palette(\"Vega20_r\"))\n",
    "plt.ylabel('Number of times vehicles stopped by FIPO')\n",
    "plt.xlabel('Years')\n",
    "plt.title('Total number of vehicles stopped by field investigation police officer on yearly-basis')"
   ]
  },
  {
   "cell_type": "markdown",
   "metadata": {},
   "source": [
    "#### In the above graphs, it depicts yearly-basis maximum number of vehicles stopped by the field investigation officers in various different cities. The highest number of vehicles stopped for investigative purpose is in the year 2012, 2011, 2013, & 2014. "
   ]
  },
  {
   "cell_type": "code",
   "execution_count": 29,
   "metadata": {},
   "outputs": [
    {
     "data": {
      "text/plain": [
       "Text(0.5,1,'Total number of vehicles stopped by field investigation police officer based age-groups')"
      ]
     },
     "execution_count": 29,
     "metadata": {},
     "output_type": "execute_result"
    },
    {
     "data": {
      "image/png": "[encoded data removed]",
      "text/plain": [
       "<matplotlib.figure.Figure at 0x1aa15971a90>"
      ]
     },
     "metadata": {},
     "output_type": "display_data"
    }
   ],
   "source": [
    "AE= nfio2.groupby('age_range')['STOP_REASONS'].count()\n",
    "AE= pd.DataFrame(data= AE)\n",
    "AE= AE.reset_index()\n",
    "AE= AE.sort_values('STOP_REASONS', ascending= False)\n",
    "AE= AE[AE['STOP_REASONS']> 100]\n",
    "plt.figure(figsize=(15,5))\n",
    "sns.barplot(AE.age_range, AE.STOP_REASONS, palette=\"BuGn_r\")\n",
    "plt.ylabel('Number of times vehicles stopped by FIPO')\n",
    "plt.xlabel('Age-groups')\n",
    "plt.title('Total number of vehicles stopped by field investigation police officer based age-groups')"
   ]
  },
  {
   "cell_type": "markdown",
   "metadata": {},
   "source": [
    "#### In the above graph, it shows the number of vehicles stopped by the FIPO, based on different age-groups. It clearly indicates that age group 18-29, has highest number of vehicle investigation in the cities, whereas age-group 60-69 and 70+ has the lowest numbers of vehicle investigation."
   ]
  },
  {
   "cell_type": "code",
   "execution_count": 30,
   "metadata": {},
   "outputs": [],
   "source": [
    "#Deleting unwanted columns from the nfio3 dataset\n",
    "nfio3= nfio2\n",
    "nfio3= nfio3.drop(['FIO_ID', 'SEX', 'PRIORS', 'DESCRIPTION', 'COMPLEXION', 'BASIS', 'STOP_REASONS', 'OUTCOME', \n",
    "                   'VEH_MAKE', 'age_range', 'VEH_OCCUPANT', 'VEH_STATE', 'RACE_DESC', 'AGE_AT_FIO_CORRECTED', 'CITY', 'date',\n",
    "                  'year', 'month', 'day'], axis= 1)\n"
   ]
  },
  {
   "cell_type": "code",
   "execution_count": 31,
   "metadata": {},
   "outputs": [
    {
     "name": "stdout",
     "output_type": "stream",
     "text": [
      "TERRORISM\n",
      "NO     152044\n",
      "YES       168\n",
      "Name: TERRORISM, dtype: int64\n"
     ]
    },
    {
     "data": {
      "image/png": "[encoded data removed]",
      "text/plain": [
       "<matplotlib.figure.Figure at 0x1aa20b1ca58>"
      ]
     },
     "metadata": {},
     "output_type": "display_data"
    }
   ],
   "source": [
    "print(nfio.groupby('TERRORISM')['TERRORISM'].count())\n",
    "sns.countplot(x='TERRORISM',data=nfio3, palette='hls')\n",
    "plt.ylabel('Number of times vehicles stopped by FIPO')\n",
    "plt.xlabel('Terrorism')\n",
    "plt.title('Total number of indiviudals investigated by FIPO found to be terrorists')\n",
    "plt.show()"
   ]
  },
  {
   "cell_type": "markdown",
   "metadata": {},
   "source": [
    "#### In the above bar graph, it shows that the response variable has maximum number of 0 (i.e. an individual is not a terrorist), and minimum number is 1(i.e. an individual is a terrorist). So, we want to run a logistic regression model using Terrorism variable as a response variable."
   ]
  },
  {
   "cell_type": "code",
   "execution_count": 38,
   "metadata": {},
   "outputs": [],
   "source": [
    "#Splitting data into training and test datasets\n",
    "from sklearn import model_selection\n",
    "from sklearn.linear_model import LogisticRegression\n",
    "X = nfio3.iloc[:,1:]\n",
    "y = nfio3.iloc[:,0]\n",
    "X_train, X_test, y_train, y_test = sklearn.model_selection.train_test_split(X, y, test_size=0.30,random_state=0)"
   ]
  },
  {
   "cell_type": "code",
   "execution_count": 39,
   "metadata": {},
   "outputs": [
    {
     "data": {
      "text/plain": [
       "(96544, 27)"
      ]
     },
     "execution_count": 39,
     "metadata": {},
     "output_type": "execute_result"
    }
   ],
   "source": [
    "#X_train.shape\n",
    "#X_train.columns.values\n",
    "X_train.shape"
   ]
  },
  {
   "cell_type": "code",
   "execution_count": 40,
   "metadata": {},
   "outputs": [
    {
     "data": {
      "text/plain": [
       "LogisticRegression(C=1.0, class_weight=None, dual=False, fit_intercept=True,\n",
       "          intercept_scaling=1, max_iter=100, multi_class='ovr', n_jobs=1,\n",
       "          penalty='l2', random_state=0, solver='liblinear', tol=0.0001,\n",
       "          verbose=0, warm_start=False)"
      ]
     },
     "execution_count": 40,
     "metadata": {},
     "output_type": "execute_result"
    }
   ],
   "source": [
    "classifier = LogisticRegression(random_state=0)\n",
    "classifier.fit(X_train, y_train)"
   ]
  },
  {
   "cell_type": "code",
   "execution_count": 41,
   "metadata": {},
   "outputs": [
    {
     "name": "stdout",
     "output_type": "stream",
     "text": [
      "[[41334     0]\n",
      " [   42     0]]\n"
     ]
    }
   ],
   "source": [
    "y_pred = classifier.predict(X_test)\n",
    "from sklearn.metrics import confusion_matrix\n",
    "confusion_matrix = confusion_matrix(y_test, y_pred)\n",
    "print(confusion_matrix)"
   ]
  },
  {
   "cell_type": "code",
   "execution_count": 42,
   "metadata": {},
   "outputs": [
    {
     "name": "stdout",
     "output_type": "stream",
     "text": [
      "Accuracy of logistic regression classifier on test set: 1.00\n"
     ]
    }
   ],
   "source": [
    "print('Accuracy of logistic regression classifier on test set: {:.2f}'.format(classifier.score(X_test, y_test)))"
   ]
  },
  {
   "cell_type": "code",
   "execution_count": 43,
   "metadata": {
    "scrolled": true
   },
   "outputs": [
    {
     "name": "stdout",
     "output_type": "stream",
     "text": [
      "             precision    recall  f1-score   support\n",
      "\n",
      "          0       1.00      1.00      1.00     41334\n",
      "          1       0.00      0.00      0.00        42\n",
      "\n",
      "avg / total       1.00      1.00      1.00     41376\n",
      "\n"
     ]
    },
    {
     "name": "stderr",
     "output_type": "stream",
     "text": [
      "C:\\Users\\Ashok\\Anaconda3\\lib\\site-packages\\sklearn\\metrics\\classification.py:1135: UndefinedMetricWarning: Precision and F-score are ill-defined and being set to 0.0 in labels with no predicted samples.\n",
      "  'precision', 'predicted', average, warn_for)\n"
     ]
    }
   ],
   "source": [
    "from sklearn.metrics import classification_report\n",
    "print(classification_report(y_test, y_pred))"
   ]
  },
  {
   "cell_type": "markdown",
   "metadata": {},
   "source": [
    "#### Conclusion: In the entire test dataset, the predicted binary value says that 100% of the individuals are not terrorist or they have not committed the crimes in the past (i.e. 100% predicted values are accurate). Moreover, 100% of the individuals predicted as non-terrorist are relevant to the actual test dataset. "
   ]
  },
  {
   "cell_type": "code",
   "execution_count": null,
   "metadata": {},
   "outputs": [],
   "source": []
  }
 ],
 "metadata": {
  "kernelspec": {
   "display_name": "Python 3",
   "language": "python",
   "name": "python3"
  },
  "language_info": {
   "codemirror_mode": {
    "name": "ipython",
    "version": 3
   },
   "file_extension": ".py",
   "mimetype": "text/x-python",
   "name": "python",
   "nbconvert_exporter": "python",
   "pygments_lexer": "ipython3",
   "version": "3.6.4"
  }
 },
 "nbformat": 4,
 "nbformat_minor": 2
}
